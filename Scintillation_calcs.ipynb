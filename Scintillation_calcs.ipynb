{
 "cells": [
  {
   "cell_type": "markdown",
   "metadata": {},
   "source": [
    "Key       Unit                     Description\n",
    "------------------------------------------------------------\n",
    "DIST      (kpc)                    ModelDistance\n",
    "DM        (pc-cm^{-3})             DispersionMeasure\n",
    "DMz       (pc-cm^{-3})             DM_Zcomponent\n",
    "SM        (kpc-m^{-20/3})          ScatteringMeasure\n",
    "SMtau     (kpc-m^{-20/3})          SM_PulseBroadening\n",
    "SMtheta   (kpc-m^{-20/3})          SM_GalAngularBroadening\n",
    "SMiso     (kpc-m^{-20/3})          SM_IsoplanaticAngle\n",
    "EM        (pc-cm^{-6})             EmissionMeasure_from_SM\n",
    "TAU       (ms)                     PulseBroadening @1GHz\n",
    "SBW       (MHz)                    ScintBW @1GHz\n",
    "SCINTIME  (s)                      ScintTime @1GHz @100 km/s\n",
    "THETA_G   (mas)                    AngBroadeningGal @1GHz\n",
    "THETA_X   (mas)                    AngBroadeningXgal @1GHz\n",
    "NU_T      (GHz)                    TransitionFrequency\n",
    "LOWERLIM                           If True, ModelDistance is a lower limit only"
   ]
  },
  {
   "cell_type": "code",
   "execution_count": 8,
   "metadata": {},
   "outputs": [
    {
     "name": "stdout",
     "output_type": "stream",
     "text": [
      "Transition frequency: 6.71GHz\n"
     ]
    }
   ],
   "source": [
    "from astropy.coordinates import SkyCoord\n",
    "from astropy import units as u\n",
    "import pyne2001 as pn"
   ]
  },
  {
   "cell_type": "code",
   "execution_count": 10,
   "metadata": {},
   "outputs": [
    {
     "name": "stdout",
     "output_type": "stream",
     "text": [
      "3.0\n"
     ]
    }
   ],
   "source": [
    "# Source details: NGC 5033\n",
    "ra = \"13:13:27.535\"\n",
    "dec = \"+36:35:37.14\"\n",
    "source = SkyCoord(f\"{ra} {dec}\", frame='icrs', unit=(u.hourangle,u.deg))\n",
    "gl = source.galactic.l.deg\n",
    "gb = source.galactic.b.deg\n",
    "\n",
    "obs_freq = 3*u.GHz"
   ]
  },
  {
   "cell_type": "code",
   "execution_count": 11,
   "metadata": {},
   "outputs": [
    {
     "name": "stdout",
     "output_type": "stream",
     "text": [
      "Transition frequency: 6.71GHz\n",
      "strong\n"
     ]
    }
   ],
   "source": [
    "para = pn.get_dm_full(gl,gb, dist_kpc = 30)\n",
    "print(f\"Transition frequency: {para['NU_T']}GHz\")\n",
    "\n",
    "transition_f = para[\"NU_T\"]*u.GHz\n",
    "\n",
    "if obs_freq.to(u.GHz).value < transition_f.to(u.GHz).value:\n",
    "    regime=\"strong\"\n",
    "elif obs_freq.to(u.GHz).value > transition_f.to(u.GHz).value:\n",
    "    regime=\"weak\"\n",
    "\n",
    "print(regime)"
   ]
  }
 ],
 "metadata": {
  "kernelspec": {
   "display_name": "general",
   "language": "python",
   "name": "python3"
  },
  "language_info": {
   "codemirror_mode": {
    "name": "ipython",
    "version": 3
   },
   "file_extension": ".py",
   "mimetype": "text/x-python",
   "name": "python",
   "nbconvert_exporter": "python",
   "pygments_lexer": "ipython3",
   "version": "3.10.4"
  }
 },
 "nbformat": 4,
 "nbformat_minor": 2
}
